{
  "nbformat": 4,
  "nbformat_minor": 0,
  "metadata": {
    "colab": {
      "provenance": [],
      "authorship_tag": "ABX9TyO5XWbFZT7yH9/Ytr2uLzQa",
      "include_colab_link": true
    },
    "kernelspec": {
      "name": "python3",
      "display_name": "Python 3"
    },
    "language_info": {
      "name": "python"
    }
  },
  "cells": [
    {
      "cell_type": "markdown",
      "metadata": {
        "id": "view-in-github",
        "colab_type": "text"
      },
      "source": [
        "<a href=\"https://colab.research.google.com/github/keshav-7461/Hackerrank---Python/blob/main/palindrome.ipynb\" target=\"_parent\"><img src=\"https://colab.research.google.com/assets/colab-badge.svg\" alt=\"Open In Colab\"/></a>"
      ]
    },
    {
      "cell_type": "code",
      "source": [
        "n=str(input())\n",
        "rev=''\n",
        "for i in n:\n",
        "  rev=i+rev\n",
        "print(rev)\n",
        "if rev==n:\n",
        "  print(\"yaaa\")\n",
        "else:\n",
        "  print(\"nahhh\")"
      ],
      "metadata": {
        "colab": {
          "base_uri": "https://localhost:8080/"
        },
        "id": "Oyeo2bdMFaeP",
        "outputId": "e4869130-f2e7-48d0-ef89-2c7fbf6837e7"
      },
      "execution_count": 13,
      "outputs": [
        {
          "output_type": "stream",
          "name": "stdout",
          "text": [
            "banglore\n",
            "erolgnab\n",
            "nahhh\n"
          ]
        }
      ]
    },
    {
      "cell_type": "code",
      "source": [],
      "metadata": {
        "id": "fIZaLfOUJ9uH"
      },
      "execution_count": null,
      "outputs": []
    }
  ]
}