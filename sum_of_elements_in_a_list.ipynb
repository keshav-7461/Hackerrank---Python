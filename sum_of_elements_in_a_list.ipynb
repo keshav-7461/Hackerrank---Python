{
  "nbformat": 4,
  "nbformat_minor": 0,
  "metadata": {
    "colab": {
      "provenance": [],
      "authorship_tag": "ABX9TyMIVieO3dJEyBqDmys/ZieO",
      "include_colab_link": true
    },
    "kernelspec": {
      "name": "python3",
      "display_name": "Python 3"
    },
    "language_info": {
      "name": "python"
    }
  },
  "cells": [
    {
      "cell_type": "markdown",
      "metadata": {
        "id": "view-in-github",
        "colab_type": "text"
      },
      "source": [
        "<a href=\"https://colab.research.google.com/github/keshav-7461/Hackerrank---Python/blob/main/sum_of_elements_in_a_list.ipynb\" target=\"_parent\"><img src=\"https://colab.research.google.com/assets/colab-badge.svg\" alt=\"Open In Colab\"/></a>"
      ]
    },
    {
      "cell_type": "code",
      "execution_count": 2,
      "metadata": {
        "colab": {
          "base_uri": "https://localhost:8080/"
        },
        "id": "I91IGt6GPfbU",
        "outputId": "05f1d45e-feac-416c-b46b-faa6ed355bdd"
      },
      "outputs": [
        {
          "output_type": "stream",
          "name": "stdout",
          "text": [
            "enter no of elements3\n",
            "enter no:7\n",
            "enter no:9\n",
            "enter no:4\n",
            "[7, 9, 4]\n",
            "6.666666666666667\n"
          ]
        }
      ],
      "source": [
        "n=int(input(\"enter no of elements\"))\n",
        "sum=0\n",
        "list=[]\n",
        "for i in range(n):\n",
        "  n1=int(input('enter no:'))\n",
        "  list.append(n1)\n",
        "  sum+=n1\n",
        "print(list)\n",
        "print(sum/len(list))"
      ]
    },
    {
      "cell_type": "code",
      "source": [],
      "metadata": {
        "id": "826NT11WSRYD"
      },
      "execution_count": null,
      "outputs": []
    }
  ]
}