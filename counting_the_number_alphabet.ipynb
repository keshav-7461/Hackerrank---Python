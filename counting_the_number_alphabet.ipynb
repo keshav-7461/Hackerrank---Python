{
  "nbformat": 4,
  "nbformat_minor": 0,
  "metadata": {
    "colab": {
      "provenance": [],
      "authorship_tag": "ABX9TyMzj2qDEKVffI2jOMhMXGcl",
      "include_colab_link": true
    },
    "kernelspec": {
      "name": "python3",
      "display_name": "Python 3"
    },
    "language_info": {
      "name": "python"
    }
  },
  "cells": [
    {
      "cell_type": "markdown",
      "metadata": {
        "id": "view-in-github",
        "colab_type": "text"
      },
      "source": [
        "<a href=\"https://colab.research.google.com/github/keshav-7461/Hackerrank---Python/blob/main/counting_the_number_alphabet.ipynb\" target=\"_parent\"><img src=\"https://colab.research.google.com/assets/colab-badge.svg\" alt=\"Open In Colab\"/></a>"
      ]
    },
    {
      "cell_type": "code",
      "source": [
        "a='Mahendran-6066681'\n",
        "num=alphabet=0\n",
        "for i in a:\n",
        "    if i.isalpha():\n",
        "        alphabet+=1\n",
        "    elif i.isdigit():\n",
        "        num+=1\n",
        "    else:\n",
        "        pass\n",
        "print('Total number:',num)\n",
        "print('Total alphabet:',alphabet)"
      ],
      "metadata": {
        "colab": {
          "base_uri": "https://localhost:8080/"
        },
        "id": "2hK_6mqHQPyU",
        "outputId": "0c150180-7530-4237-c2ff-fb92169e7af8"
      },
      "execution_count": 17,
      "outputs": [
        {
          "output_type": "stream",
          "name": "stdout",
          "text": [
            "Total number: 7\n",
            "Total alphabet: 9\n"
          ]
        }
      ]
    },
    {
      "cell_type": "code",
      "source": [],
      "metadata": {
        "id": "Bt0MANNFR_eU"
      },
      "execution_count": null,
      "outputs": []
    }
  ]
}