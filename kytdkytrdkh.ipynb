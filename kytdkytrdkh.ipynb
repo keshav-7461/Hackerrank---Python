{
  "nbformat": 4,
  "nbformat_minor": 0,
  "metadata": {
    "colab": {
      "provenance": [],
      "authorship_tag": "ABX9TyNa50iEEQVtyX0KPMBt7FB2",
      "include_colab_link": true
    },
    "kernelspec": {
      "name": "python3",
      "display_name": "Python 3"
    },
    "language_info": {
      "name": "python"
    }
  },
  "cells": [
    {
      "cell_type": "markdown",
      "metadata": {
        "id": "view-in-github",
        "colab_type": "text"
      },
      "source": [
        "<a href=\"https://colab.research.google.com/github/keshav-7461/Hackerrank---Python/blob/main/kytdkytrdkh.ipynb\" target=\"_parent\"><img src=\"https://colab.research.google.com/assets/colab-badge.svg\" alt=\"Open In Colab\"/></a>"
      ]
    },
    {
      "cell_type": "code",
      "source": [
        "n=int(input('Enter the number of elements'))\n",
        "list=[]\n",
        "count1=0\n",
        "for i in range(n):\n",
        "  n1=int(input('Enter number:'))\n",
        "\n",
        "  list.append(n1)\n",
        "  if list.count(n1)>1:\n",
        "    count1+=1\n",
        "\n",
        "\n",
        "\n",
        "print(list)\n",
        "print(count1)"
      ],
      "metadata": {
        "colab": {
          "base_uri": "https://localhost:8080/"
        },
        "id": "XJhtuCdxUyRv",
        "outputId": "088338dc-44a1-4169-8ff7-ef7f5b3c05b8"
      },
      "execution_count": 8,
      "outputs": [
        {
          "output_type": "stream",
          "name": "stdout",
          "text": [
            "Enter the number of elements5\n",
            "Enter number:3\n",
            "Enter number:3\n",
            "Enter number:3\n",
            "Enter number:78\n",
            "Enter number:90\n",
            "[3, 3, 3, 78, 90]\n",
            "2\n"
          ]
        }
      ]
    },
    {
      "cell_type": "code",
      "source": [],
      "metadata": {
        "id": "eAbFz2K3ecQf"
      },
      "execution_count": null,
      "outputs": []
    }
  ]
}