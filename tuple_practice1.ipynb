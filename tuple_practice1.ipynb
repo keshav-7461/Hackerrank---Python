{
  "nbformat": 4,
  "nbformat_minor": 0,
  "metadata": {
    "colab": {
      "provenance": [],
      "authorship_tag": "ABX9TyMicx800gyWMYSu+jSj2xxL",
      "include_colab_link": true
    },
    "kernelspec": {
      "name": "python3",
      "display_name": "Python 3"
    },
    "language_info": {
      "name": "python"
    }
  },
  "cells": [
    {
      "cell_type": "markdown",
      "metadata": {
        "id": "view-in-github",
        "colab_type": "text"
      },
      "source": [
        "<a href=\"https://colab.research.google.com/github/keshav-7461/Hackerrank---Python/blob/main/tuple_practice1.ipynb\" target=\"_parent\"><img src=\"https://colab.research.google.com/assets/colab-badge.svg\" alt=\"Open In Colab\"/></a>"
      ]
    },
    {
      "cell_type": "code",
      "source": [
        "value_tuple=26,45,32\n",
        "print(value_tuple)"
      ],
      "metadata": {
        "colab": {
          "base_uri": "https://localhost:8080/"
        },
        "id": "eAbFz2K3ecQf",
        "outputId": "e9f3af23-0158-4857-b749-443b37dc6292"
      },
      "execution_count": 9,
      "outputs": [
        {
          "output_type": "stream",
          "name": "stdout",
          "text": [
            "(26, 45, 32)\n"
          ]
        }
      ]
    },
    {
      "cell_type": "code",
      "source": [
        "tuple=\"hello,\"\n",
        "print(tuple)\n"
      ],
      "metadata": {
        "colab": {
          "base_uri": "https://localhost:8080/"
        },
        "id": "Og_cE_o74cpK",
        "outputId": "763f4624-ea48-4900-e5ed-ff97e1cd66dd"
      },
      "execution_count": 10,
      "outputs": [
        {
          "output_type": "stream",
          "name": "stdout",
          "text": [
            "hello,\n"
          ]
        }
      ]
    },
    {
      "cell_type": "code",
      "source": [
        "value_tuple=(26,25,'hello')\n",
        "value_tuple"
      ],
      "metadata": {
        "colab": {
          "base_uri": "https://localhost:8080/"
        },
        "id": "29WbgGpI5l30",
        "outputId": "99f3a1d9-43e8-444c-edd4-70d2ce60e526"
      },
      "execution_count": 11,
      "outputs": [
        {
          "output_type": "execute_result",
          "data": {
            "text/plain": [
              "(26, 25, 'hello')"
            ]
          },
          "metadata": {},
          "execution_count": 11
        }
      ]
    },
    {
      "cell_type": "code",
      "source": [
        "value1_tuple=(26,25,'hello')\n",
        "value2_tuple=7,5.6,\"python\"\n",
        "print(value1_tuple+value2_tuple)"
      ],
      "metadata": {
        "colab": {
          "base_uri": "https://localhost:8080/"
        },
        "id": "eOaGj7Lu53H4",
        "outputId": "7f0e520f-029f-4961-9475-cac836540091"
      },
      "execution_count": 12,
      "outputs": [
        {
          "output_type": "stream",
          "name": "stdout",
          "text": [
            "(26, 25, 'hello', 7, 5.6, 'python')\n"
          ]
        }
      ]
    },
    {
      "cell_type": "code",
      "source": [
        "value1_tuple=(26,25,'hello')\n",
        "value2_tuple=7,5.6,\"python\"\n",
        "value3_tuple=(value1_tuple+value2_tuple)"
      ],
      "metadata": {
        "id": "eCkiFW5l6RMw"
      },
      "execution_count": 13,
      "outputs": []
    },
    {
      "cell_type": "code",
      "source": [
        "print(value3_tuple)"
      ],
      "metadata": {
        "colab": {
          "base_uri": "https://localhost:8080/"
        },
        "id": "8XHUGIji6a3p",
        "outputId": "f4edf5eb-4d5e-4b53-bef7-493dc20747ca"
      },
      "execution_count": 14,
      "outputs": [
        {
          "output_type": "stream",
          "name": "stdout",
          "text": [
            "(26, 25, 'hello', 7, 5.6, 'python')\n"
          ]
        }
      ]
    },
    {
      "cell_type": "code",
      "source": [
        "value_tuple=(26, 25,'hello', 7, 5.6, 'python')\n",
        "print(value_tuple[3])"
      ],
      "metadata": {
        "colab": {
          "base_uri": "https://localhost:8080/"
        },
        "id": "2OlqWoqY7TwY",
        "outputId": "476dfe72-5240-4463-c59c-e6f7737db229"
      },
      "execution_count": 17,
      "outputs": [
        {
          "output_type": "stream",
          "name": "stdout",
          "text": [
            "7\n"
          ]
        }
      ]
    },
    {
      "cell_type": "code",
      "source": [
        "value_tuple=(26, 25,'hello', 7, 5.6, 'python')\n",
        "print(value_tuple[:4])"
      ],
      "metadata": {
        "colab": {
          "base_uri": "https://localhost:8080/"
        },
        "id": "0YXm5Ti77fiE",
        "outputId": "25b8722b-28bd-441a-e15c-f64dfa7f0f9c"
      },
      "execution_count": 18,
      "outputs": [
        {
          "output_type": "stream",
          "name": "stdout",
          "text": [
            "(26, 25, 'hello', 7)\n"
          ]
        }
      ]
    },
    {
      "cell_type": "code",
      "source": [
        "value_tuple=(26, 25,'hello', 7, 5.6, 'python')\n",
        "print(value_tuple[:-4])"
      ],
      "metadata": {
        "colab": {
          "base_uri": "https://localhost:8080/"
        },
        "id": "qVXzRQLe8PzD",
        "outputId": "c8efabee-e376-491f-afa0-9195ea87ff3f"
      },
      "execution_count": 19,
      "outputs": [
        {
          "output_type": "stream",
          "name": "stdout",
          "text": [
            "(26, 25)\n"
          ]
        }
      ]
    },
    {
      "cell_type": "code",
      "source": [
        "value_tuple=(26, 25,'hello', 7, 5.6, 'python')\n",
        "print(value_tuple[:-1])"
      ],
      "metadata": {
        "colab": {
          "base_uri": "https://localhost:8080/"
        },
        "id": "H3w7poml80wN",
        "outputId": "26aa5464-c60d-4f0c-c03c-c879a9d62641"
      },
      "execution_count": 20,
      "outputs": [
        {
          "output_type": "stream",
          "name": "stdout",
          "text": [
            "(26, 25, 'hello', 7, 5.6)\n"
          ]
        }
      ]
    },
    {
      "cell_type": "code",
      "source": [],
      "metadata": {
        "id": "yI8NkEIh87IV"
      },
      "execution_count": null,
      "outputs": []
    }
  ]
}